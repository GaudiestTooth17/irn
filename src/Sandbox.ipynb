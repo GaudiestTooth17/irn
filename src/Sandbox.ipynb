{
 "cells": [
  {
   "cell_type": "code",
   "execution_count": 7,
   "id": "refined-estimate",
   "metadata": {},
   "outputs": [],
   "source": [
    "using LightGraphs, GraphPlot\n",
    "include(\"fileio.jl\")\n",
    "G = Graph(read_adj_list(\"evolved.txt\"));"
   ]
  },
  {
   "cell_type": "code",
   "execution_count": 8,
   "id": "corrected-language",
   "metadata": {},
   "outputs": [
    {
     "data": {
      "text/plain": [
       "true"
      ]
     },
     "execution_count": 8,
     "metadata": {},
     "output_type": "execute_result"
    }
   ],
   "source": [
    "is_connected(G)"
   ]
  },
  {
   "cell_type": "code",
   "execution_count": 14,
   "id": "arranged-scholar",
   "metadata": {
    "scrolled": true
   },
   "outputs": [
    {
     "data": {
      "text/plain": [
       "62270"
      ]
     },
     "execution_count": 14,
     "metadata": {},
     "output_type": "execute_result"
    }
   ],
   "source": [
    "length(edges(G))"
   ]
  },
  {
   "cell_type": "code",
   "execution_count": 12,
   "id": "fluid-region",
   "metadata": {},
   "outputs": [
    {
     "data": {
      "text/plain": [
       "{500, 62270} undirected simple Int64 graph"
      ]
     },
     "execution_count": 12,
     "metadata": {},
     "output_type": "execute_result"
    }
   ],
   "source": [
    "G"
   ]
  },
  {
   "cell_type": "code",
   "execution_count": null,
   "id": "standing-brooks",
   "metadata": {},
   "outputs": [],
   "source": []
  }
 ],
 "metadata": {
  "kernelspec": {
   "display_name": "JuliaPro_v1.5.3-1 1.5.3",
   "language": "julia",
   "name": "juliapro_v1.5.3-1-1.5"
  },
  "language_info": {
   "file_extension": ".jl",
   "mimetype": "application/julia",
   "name": "julia",
   "version": "1.5.3"
  }
 },
 "nbformat": 4,
 "nbformat_minor": 5
}
